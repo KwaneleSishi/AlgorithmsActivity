{
 "cells": [
  {
   "cell_type": "code",
   "execution_count": 1,
   "id": "7170e787-5176-4d8a-87f1-adca779cfb75",
   "metadata": {},
   "outputs": [
    {
     "name": "stdout",
     "output_type": "stream",
     "text": [
      "Nums: [2, 3, 7, 8]\n"
     ]
    }
   ],
   "source": [
    "#Activity 1: Bubble sort \n",
    "nums=[8,3,7,2]\n",
    "def b_sort(nums):\n",
    "    for i in range(len(nums)-1,0,-1):\n",
    "        for j in range(i):\n",
    "            if (nums[j]>nums[j+1]):\n",
    "                temp=nums[j]\n",
    "                nums[j]=nums[j+1]\n",
    "                nums[j+1]=temp\n",
    "    \n",
    "b_sort(nums)\n",
    "print(\"Nums:\",nums)"
   ]
  },
  {
   "cell_type": "code",
   "execution_count": 4,
   "id": "88187ffd-0d25-45c8-898c-87b1e7fa2e9a",
   "metadata": {},
   "outputs": [
    {
     "name": "stdout",
     "output_type": "stream",
     "text": [
      "[2, 3, 7, 8]\n"
     ]
    }
   ],
   "source": [
    "#Activity 2: Insertion Sort\n",
    "#Sort the same elements from the Bubble sort using Insertion sort.\n",
    "#Write an essay explaining each line of your code\n",
    "def Insertion_sort(nums):\n",
    "    for i in range(1, len(nums)):\n",
    "        j = i\n",
    "        while nums[j - 1] > nums[j] and j > 0:\n",
    "            nums[j - 1], nums[j] = nums[j], nums[j - 1]\n",
    "            j -= 1\n",
    "\n",
    "Insertion_sort(nums)\n",
    "print(nums)\n",
    "\n",
    "# def Insertion_sort(nums): This line defines a new function named Insertion_sort that takes a single parameter, nums. The nums parameter is expected to be a list of numbers that we want to sort.\n",
    "# for i in range(1, len(nums)): This line starts a for loop with the variable i ranging from 1 to the length of the list nums. The reason for starting from 1 is that the element at index 0 is trivially sorted by itself. The loop will iterate over each element in the list starting from the second element (index 1).\n",
    "#   j = i Within the outer loop, we initialize a new variable j and set it equal to i. This j will be used to traverse backwards through the sorted portion of the list to find the correct position for the current element nums[i].\n",
    "#         while nums[j - 1] > nums[j] and j > 0: This line starts a while loop that continues as long as two conditions are met:\n",
    "#                                              nums[j - 1] > nums[j]: The current element (nums[j]) is smaller than the element before it (nums[j - 1]).\n",
    "#                                              j > 0: The variable j is greater than 0, ensuring we do not go out of bounds of the list when accessing nums[j - 1].\n",
    "#  nums[j - 1], nums[j] = nums[j], nums[j - 1] his line performs the swap operation. The elements nums[j - 1] and nums[j] are swapped using Python's multiple assignment feature. This moves the current element nums[j] one position to the left in the list.\n",
    "#             j -= 1  After the swap, j is decremented by 1. This moves the index one step to the left, allowing the while loop to continue checking and swapping the current element with preceding elements until it finds its correct position or the beginning of the list is reached.\n",
    "# Finally, the function Insertion_sort is called with the list nums as an argument, and then the sorted list nums is printed to the console."
   ]
  },
  {
   "cell_type": "code",
   "execution_count": 9,
   "id": "e7e2892e-e601-47c3-9b8b-1714a4fe234e",
   "metadata": {},
   "outputs": [
    {
     "name": "stdout",
     "output_type": "stream",
     "text": [
      "[2, 3, 7, 8]\n"
     ]
    }
   ],
   "source": [
    "#Activity 3: Selection Sort\n",
    "#Sort the same elements from the Bubble sort using Selection sort.\n",
    "#Write an essay explaining each line of your code\n",
    "def Selection_sort(nums):\n",
    "    for i in range(0, len(nums)- 1):\n",
    "        cur_min_idx = i\n",
    "        for j in range(i+1, len(nums)):\n",
    "            if nums[j] < nums[cur_min_idx]:\n",
    "                cur_min_idx = j\n",
    "        \n",
    "        nums[i], nums[cur_min_idx] = nums[cur_min_idx], nums[i] #Swap\n",
    "        \n",
    "Selection_sort(nums)\n",
    "print(nums)\n",
    "\n",
    "# def Selection_sort(nums): This line defines a new function named Selection_sort that takes a single parameter, nums. The nums parameter is expected to be a list of numbers that we want to sort.\n",
    "#     for i in range(0, len(nums) - 1):  This line starts a for loop with the variable i ranging from 0 to the second-to-last index of the list nums (inclusive). The reason for stopping at len(nums) - 1 is that once we have placed the correct element in the second-to-last position, the last element must be in its correct place.\n",
    "#         cur_min_idx = i Within the outer loop, we initialize a new variable cur_min_idx and set it equal to i. This variable keeps track of the index of the current minimum element in the unsorted portion of the list.\n",
    "#   for j in range(i + 1, len(nums)): This line starts another for loop with the variable j ranging from i + 1 to the end of the list. This loop is used to find the smallest element in the unsorted portion of the list, which starts from index i + 1.\n",
    "#             if nums[j] < nums[cur_min_idx]:\n",
    "#               cur_min_idx = j  Within the inner loop, an if statement checks if the current element nums[j] is smaller than the element at nums[cur_min_idx]. If it is, cur_min_idx is updated to j. This way, by the end of the inner loop, cur_min_idx will hold the index of the smallest element in the unsorted portion of the list\n",
    "#         nums[i], nums[cur_min_idx] = nums[cur_min_idx], nums[i]  # Swap After the inner loop completes, this line swaps the element at index i with the smallest element found (nums[cur_min_idx]). This places the smallest element at the beginning of the unsorted portion, thus expanding the sorted portion of the list by one element.\n",
    "#"
   ]
  },
  {
   "cell_type": "code",
   "execution_count": null,
   "id": "cf6bc1fc-d683-4428-a863-2059ef197b46",
   "metadata": {},
   "outputs": [],
   "source": []
  },
  {
   "cell_type": "code",
   "execution_count": null,
   "id": "dc2927f9-188d-4ae0-8bfa-ad24d91320da",
   "metadata": {},
   "outputs": [],
   "source": []
  }
 ],
 "metadata": {
  "kernelspec": {
   "display_name": "Python 3 (ipykernel)",
   "language": "python",
   "name": "python3"
  },
  "language_info": {
   "codemirror_mode": {
    "name": "ipython",
    "version": 3
   },
   "file_extension": ".py",
   "mimetype": "text/x-python",
   "name": "python",
   "nbconvert_exporter": "python",
   "pygments_lexer": "ipython3",
   "version": "3.12.2"
  }
 },
 "nbformat": 4,
 "nbformat_minor": 5
}
